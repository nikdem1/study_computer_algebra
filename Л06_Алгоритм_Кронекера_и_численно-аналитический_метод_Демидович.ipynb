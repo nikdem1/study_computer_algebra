{
 "cells": [
  {
   "cell_type": "markdown",
   "metadata": {},
   "source": [
    "# Алгоритм Кронекера и численно-аналитический метод\n",
    "\n",
    "Задача. Дан многочлен $f \\in \\mathbb{Z}[x]$, трубется выяснить, является ли он простым.\n",
    "## Алгоритм Кронекера "
   ]
  },
  {
   "cell_type": "code",
   "execution_count": 1,
   "metadata": {},
   "outputs": [],
   "source": [
    "import itertools\n",
    "def factors(n):\n",
    "    ans=[]\n",
    "    for (p,m)  in ZZ(abs(n)).factor():\n",
    "        ans=ans+[p for mm in range(m)]\n",
    "    return [(-1)^k*prod(a) for a in Combinations(ans) for k in [0,1]]\n",
    "\n",
    "def ipoly(points,x=x):\n",
    "    m=1\n",
    "    f=0\n",
    "    for (xx,yy) in points:\n",
    "        f=f+ (yy-f.subs([x==xx]))*m/m.subs([x==xx])\n",
    "        m=m*(x-xx)\n",
    "    return f"
   ]
  },
  {
   "cell_type": "code",
   "execution_count": 2,
   "metadata": {},
   "outputs": [],
   "source": [
    "def Kronecker(f):\n",
    "    n=f.degree()\n",
    "    m=floor(n/2)\n",
    "    L=[]\n",
    "    ans=[]\n",
    "    for k in range(m+1):\n",
    "        a=f(k)\n",
    "        if a==0:\n",
    "            ans=[x-k, f.quo_rem(x-k)[0]]\n",
    "            break\n",
    "        else:\n",
    "            L.append(factors(a))\n",
    "    L=iter.product(*L)\n",
    "    while ans==[]:\n",
    "        try:\n",
    "            l=next(L)\n",
    "            points=zip(range(m+1),l)\n",
    "            g=QQ[x](ipoly(points))\n",
    "            if g.degree()>0:\n",
    "                [u,r]=f.quo_rem(g)\n",
    "                if r==0:\n",
    "                    ans=[g,u]\n",
    "        except StopIteration as err:\n",
    "            break\n",
    "    return ans"
   ]
  },
  {
   "cell_type": "markdown",
   "metadata": {},
   "source": [
    "1.) Как исправить функцию Kronecker, чтобы она работа при любом выборе имени незиависимой переменной?"
   ]
  },
  {
   "cell_type": "code",
   "execution_count": 3,
   "metadata": {},
   "outputs": [
    {
     "name": "stdout",
     "output_type": "stream",
     "text": [
      "t^3 + 1\n"
     ]
    },
    {
     "ename": "AttributeError",
     "evalue": "'builtin_function_or_method' object has no attribute 'product'",
     "output_type": "error",
     "traceback": [
      "\u001b[0;31m---------------------------------------------------------------------------\u001b[0m",
      "\u001b[0;31mAttributeError\u001b[0m                            Traceback (most recent call last)",
      "\u001b[0;32m<ipython-input-3-421704718701>\u001b[0m in \u001b[0;36m<module>\u001b[0;34m\u001b[0m\n\u001b[1;32m      2\u001b[0m \u001b[0mf\u001b[0m\u001b[0;34m=\u001b[0m\u001b[0mexpand\u001b[0m\u001b[0;34m(\u001b[0m\u001b[0mQQ\u001b[0m\u001b[0;34m[\u001b[0m\u001b[0mt\u001b[0m\u001b[0;34m]\u001b[0m\u001b[0;34m(\u001b[0m\u001b[0mt\u001b[0m\u001b[0;34m**\u001b[0m\u001b[0mInteger\u001b[0m\u001b[0;34m(\u001b[0m\u001b[0;36m3\u001b[0m\u001b[0;34m)\u001b[0m\u001b[0;34m+\u001b[0m\u001b[0mInteger\u001b[0m\u001b[0;34m(\u001b[0m\u001b[0;36m1\u001b[0m\u001b[0;34m)\u001b[0m\u001b[0;34m)\u001b[0m\u001b[0;34m)\u001b[0m\u001b[0;34m\u001b[0m\u001b[0;34m\u001b[0m\u001b[0m\n\u001b[1;32m      3\u001b[0m \u001b[0mprint\u001b[0m\u001b[0;34m(\u001b[0m\u001b[0mf\u001b[0m\u001b[0;34m)\u001b[0m\u001b[0;34m\u001b[0m\u001b[0;34m\u001b[0m\u001b[0m\n\u001b[0;32m----> 4\u001b[0;31m \u001b[0mKronecker\u001b[0m\u001b[0;34m(\u001b[0m\u001b[0mf\u001b[0m\u001b[0;34m)\u001b[0m\u001b[0;34m\u001b[0m\u001b[0;34m\u001b[0m\u001b[0m\n\u001b[0m",
      "\u001b[0;32m<ipython-input-2-730ed2ef766a>\u001b[0m in \u001b[0;36mKronecker\u001b[0;34m(f)\u001b[0m\n\u001b[1;32m     11\u001b[0m         \u001b[0;32melse\u001b[0m\u001b[0;34m:\u001b[0m\u001b[0;34m\u001b[0m\u001b[0;34m\u001b[0m\u001b[0m\n\u001b[1;32m     12\u001b[0m             \u001b[0mL\u001b[0m\u001b[0;34m.\u001b[0m\u001b[0mappend\u001b[0m\u001b[0;34m(\u001b[0m\u001b[0mfactors\u001b[0m\u001b[0;34m(\u001b[0m\u001b[0ma\u001b[0m\u001b[0;34m)\u001b[0m\u001b[0;34m)\u001b[0m\u001b[0;34m\u001b[0m\u001b[0;34m\u001b[0m\u001b[0m\n\u001b[0;32m---> 13\u001b[0;31m     \u001b[0mL\u001b[0m\u001b[0;34m=\u001b[0m\u001b[0miter\u001b[0m\u001b[0;34m.\u001b[0m\u001b[0mproduct\u001b[0m\u001b[0;34m(\u001b[0m\u001b[0;34m*\u001b[0m\u001b[0mL\u001b[0m\u001b[0;34m)\u001b[0m\u001b[0;34m\u001b[0m\u001b[0;34m\u001b[0m\u001b[0m\n\u001b[0m\u001b[1;32m     14\u001b[0m     \u001b[0;32mwhile\u001b[0m \u001b[0mans\u001b[0m\u001b[0;34m==\u001b[0m\u001b[0;34m[\u001b[0m\u001b[0;34m]\u001b[0m\u001b[0;34m:\u001b[0m\u001b[0;34m\u001b[0m\u001b[0;34m\u001b[0m\u001b[0m\n\u001b[1;32m     15\u001b[0m         \u001b[0;32mtry\u001b[0m\u001b[0;34m:\u001b[0m\u001b[0;34m\u001b[0m\u001b[0;34m\u001b[0m\u001b[0m\n",
      "\u001b[0;31mAttributeError\u001b[0m: 'builtin_function_or_method' object has no attribute 'product'"
     ]
    }
   ],
   "source": [
    "var(\"t\")\n",
    "f=expand(QQ[t](t^3+1))\n",
    "print(f)\n",
    "Kronecker(f)"
   ]
  },
  {
   "cell_type": "markdown",
   "metadata": {},
   "source": [
    "Указание. Воспользуйтесь двумя методами:"
   ]
  },
  {
   "cell_type": "code",
   "execution_count": 4,
   "metadata": {},
   "outputs": [
    {
     "data": {
      "text/plain": [
       "Univariate Polynomial Ring in t over Rational Field"
      ]
     },
     "execution_count": 4,
     "metadata": {},
     "output_type": "execute_result"
    }
   ],
   "source": [
    "f.parent()"
   ]
  },
  {
   "cell_type": "code",
   "execution_count": 5,
   "metadata": {},
   "outputs": [
    {
     "data": {
      "text/plain": [
       "(t,)"
      ]
     },
     "execution_count": 5,
     "metadata": {},
     "output_type": "execute_result"
    }
   ],
   "source": [
    "f.variables()"
   ]
  },
  {
   "cell_type": "code",
   "execution_count": 6,
   "metadata": {},
   "outputs": [],
   "source": [
    "def Kronecker(f):\n",
    "    x=f.variables()[0]\n",
    "    K=f.parent()\n",
    "    n=f.degree()\n",
    "    m=floor(n/2)\n",
    "    ans=[]\n",
    "# Цикл 1\n",
    "    L=[]\n",
    "    for k in range(m+1):\n",
    "        a=f(k)\n",
    "        if a==0:\n",
    "            ans=[x-k, f.quo_rem(K(x-k))[0]]\n",
    "            break\n",
    "        else:\n",
    "            L.append(factors(a))\n",
    "    L=itertools.product(*L)\n",
    "# Цикл 2\n",
    "    while ans==[]:\n",
    "        try:\n",
    "            l=next(L)\n",
    "            points=zip(range(m+1),l)\n",
    "            g=K(ipoly(points,x=SR(x)))\n",
    "            if g.degree()>0:\n",
    "                [u,r]=f.quo_rem(g)\n",
    "                if r==0:\n",
    "                    ans=[g,u]\n",
    "        except StopIteration as err:\n",
    "            ans = 'poly is prime'\n",
    "            break\n",
    "    return ans"
   ]
  },
  {
   "cell_type": "code",
   "execution_count": 8,
   "metadata": {},
   "outputs": [
    {
     "name": "stdout",
     "output_type": "stream",
     "text": [
      "t^3 + 1\n"
     ]
    },
    {
     "data": {
      "text/plain": [
       "[t + 1, t^2 - t + 1]"
      ]
     },
     "execution_count": 8,
     "metadata": {},
     "output_type": "execute_result"
    }
   ],
   "source": [
    "var(\"t\")\n",
    "f=expand(QQ[t](t^3+1))\n",
    "print(f)\n",
    "Kronecker(f)"
   ]
  },
  {
   "cell_type": "code",
   "execution_count": 8,
   "metadata": {},
   "outputs": [
    {
     "name": "stdout",
     "output_type": "stream",
     "text": [
      "t^3 + t + 1\n",
      "(1, 1)\n",
      "(1, -1)\n",
      "(1, 3)\n",
      "(1, -3)\n",
      "(-1, 1)\n",
      "(-1, -1)\n",
      "(-1, 3)\n",
      "(-1, -3)\n"
     ]
    },
    {
     "data": {
      "text/plain": [
       "'poly is prime'"
      ]
     },
     "execution_count": 8,
     "metadata": {},
     "output_type": "execute_result"
    }
   ],
   "source": [
    "var(\"t\")\n",
    "f=expand(QQ[t](t^3+t+1))\n",
    "print(f)\n",
    "Kronecker(f)"
   ]
  },
  {
   "cell_type": "markdown",
   "metadata": {},
   "source": [
    "2.) Почему используется конструкция ipoly(points,x=SR(x))? Что означает SR?\n",
    "\n",
    "Мы используем параметр x=SR(x), так как функция ipoly должна быть символьной (т.е подстраивается под другие выражения, а SR - символьные выражения)"
   ]
  },
  {
   "cell_type": "markdown",
   "metadata": {},
   "source": [
    "## Численно-аналитический метод\n",
    "\n",
    "Теорема. Если многочлен $f\\in \\mathbb{Z}[x]$ делится на многочлен $g \\in \\mathbb{Q}[x]$, то он делится и на $lc(f) \\prod (x-x_i) \\in \\mathbb{Z}[x]$, где $x_i$ --- комплексные корни $g$. \n",
    "\n",
    "### Численно-аналитический алгоритм\n",
    "\n",
    "Дано: $f\\in \\mathbb{Z}[x]$, ε > 0\n",
    "\n",
    "Находим: \n",
    "\n",
    "1. Старший коэффициент:\n",
    "$c = lc(c)\\in \\mathbb{Z}$\n",
    "2. Комплексные корни:\n",
    "$x_1...x_2\\in \\mathbb{C}$\n",
    "3. Образвуем всевозможные многочлены:\n",
    "$c(x-x_i 1)...(x-x_i r)$\n",
    "\n",
    "Если один из них имеет коэффициенты, которые отличаются от целый чисел менее чем на ε > 0, то заменить эти коэффициенты на эти числа и поделить на f на этот многочлен над Q[x]. Если остаток равен нулю, то многочлен f не простой. В противном случае многочлен простой.\n",
    "\n",
    "Теорема. Если многочлен $f\\in \\mathbb{Z[x]}$ делился на многолчен $g\\in \\mathbb{Q[x]}$, то он делится и на $lc(f) П(x-x_i)\\in \\mathbb{Z[x]}$, где $x_i$ - комплексные корни $g$.\n",
    "\n",
    "3.) Напишите функцию, которая позволяет выяснить, является ли комплексное число целым с точностью до заданного $\\varepsilon>0$. "
   ]
  },
  {
   "cell_type": "code",
   "execution_count": 12,
   "metadata": {},
   "outputs": [],
   "source": [
    "def is_integer(a,eps): # данная функция проверяет является ли число целым\n",
    "    b=floor(a.real())\n",
    "    if abs(a-b)<eps or abs(a-b-1)<eps:\n",
    "        return True\n",
    "    else:\n",
    "        return False\n",
    "    \n",
    "def almost_integer(a,eps):\n",
    "    b=floor(a.real()) # округляем заданное число и делаем его вещественными\n",
    "    if abs(a-b)<eps: # возвращаем абсолютную величину числа (если компл.числ., то меняем на плавающее)\n",
    "        return b # абсолютное значение a + bj вычисляется как math.sqrt(a^2 + b^2)\n",
    "    elif abs(a-b-1)<eps:\n",
    "        return b+1\n",
    "    else:\n",
    "        return a"
   ]
  },
  {
   "cell_type": "code",
   "execution_count": 19,
   "metadata": {},
   "outputs": [
    {
     "data": {
      "text/plain": [
       "1"
      ]
     },
     "execution_count": 19,
     "metadata": {},
     "output_type": "execute_result"
    }
   ],
   "source": [
    "almost_integer(1.03+0.01*i,0.1)"
   ]
  },
  {
   "cell_type": "code",
   "execution_count": 18,
   "metadata": {},
   "outputs": [
    {
     "data": {
      "text/plain": [
       "2"
      ]
     },
     "execution_count": 18,
     "metadata": {},
     "output_type": "execute_result"
    }
   ],
   "source": [
    "almost_integer(1.98+0.01*i,0.1)"
   ]
  },
  {
   "cell_type": "code",
   "execution_count": 20,
   "metadata": {},
   "outputs": [
    {
     "data": {
      "text/plain": [
       "1.60000000000000 + 0.0100000000000000*I"
      ]
     },
     "execution_count": 20,
     "metadata": {},
     "output_type": "execute_result"
    }
   ],
   "source": [
    "almost_integer(1.6+0.01*i,0.1)"
   ]
  },
  {
   "cell_type": "code",
   "execution_count": 21,
   "metadata": {},
   "outputs": [
    {
     "data": {
      "text/plain": [
       "True"
      ]
     },
     "execution_count": 21,
     "metadata": {},
     "output_type": "execute_result"
    }
   ],
   "source": [
    "is_integer(1.09+0.01*i,0.1)"
   ]
  },
  {
   "cell_type": "code",
   "execution_count": 22,
   "metadata": {},
   "outputs": [
    {
     "data": {
      "text/plain": [
       "False"
      ]
     },
     "execution_count": 22,
     "metadata": {},
     "output_type": "execute_result"
    }
   ],
   "source": [
    "is_integer(1.1+0.01*i,0.1)"
   ]
  },
  {
   "cell_type": "markdown",
   "metadata": {},
   "source": [
    "4.) В Sage имеется численный способ отыскания комплексных корней многочлена. Допустим, для простоты, что его корни -- однократные. "
   ]
  },
  {
   "cell_type": "code",
   "execution_count": 23,
   "metadata": {},
   "outputs": [],
   "source": [
    "def alt_Kronecker(f,eps=10^-9):\n",
    "    x=f.variables()[0]\n",
    "    R=Combinations(f.roots(CC,False))\n",
    "    for r in R[1:]:\n",
    "        g=CC[x](prod([x-xi for xi in r])*(f).lc())\n",
    "        if prod([is_integer(a,eps) for a in g.coefficients()]):\n",
    "            g=QQ[x](sum([almost_integer(a,eps)*x^m for (a,m) in zip(g.coefficients(),g.exponents())]))\n",
    "            [u,r]=f.quo_rem(g)\n",
    "            if r==0:\n",
    "                ans=[g,u]\n",
    "                break\n",
    "    return ans"
   ]
  },
  {
   "cell_type": "code",
   "execution_count": 29,
   "metadata": {},
   "outputs": [
    {
     "data": {
      "text/plain": [
       "[-23*x^4 + 2*x^2 + 1, 1]"
      ]
     },
     "execution_count": 29,
     "metadata": {},
     "output_type": "execute_result"
    }
   ],
   "source": [
    "f=QQ[x](-16*x^4 - 7*x^4 + 2*x^2 + 1)\n",
    "alt_Kronecker(f)"
   ]
  },
  {
   "cell_type": "code",
   "execution_count": 28,
   "metadata": {},
   "outputs": [
    {
     "data": {
      "text/plain": [
       "[t + 1, t - 1]"
      ]
     },
     "execution_count": 28,
     "metadata": {},
     "output_type": "execute_result"
    }
   ],
   "source": [
    "var(\"t\")\n",
    "f=QQ[t](t^2-1)\n",
    "alt_Kronecker(f)"
   ]
  },
  {
   "cell_type": "markdown",
   "metadata": {},
   "source": [
    "5.) Что представляет собой список R? Почему выкидывается его первый элемент? \n",
    "\n",
    "В списке R представлены все множества, которые можно составить из корней многочлена (0, 1, 2..x), где все эти элементы не повторяются."
   ]
  },
  {
   "cell_type": "markdown",
   "metadata": {},
   "source": [
    "6.) Зачем произведение $\\prod (x-x_i)$ домножается на $lc(f)$?\n",
    "\n",
    "Чтобы образовать все многочлены, которые могут получиться."
   ]
  },
  {
   "cell_type": "markdown",
   "metadata": {},
   "source": [
    "7.) Как устроен список zip(g.coefficients(),g.exponents())?"
   ]
  },
  {
   "cell_type": "code",
   "execution_count": 52,
   "metadata": {},
   "outputs": [
    {
     "name": "stdout",
     "output_type": "stream",
     "text": [
      "[(1, 0), (2, 1), (-7, 2), (-14, 4)]\n"
     ]
    }
   ],
   "source": [
    "eps = 10^(-9)\n",
    "f = QQ[x](-14*x^4 - 7*x^2 + 2*x + 1)\n",
    "x = f.variables()[0]\n",
    "R = Combinations(f.roots(CC, False))\n",
    "for r in R[1:]:\n",
    "    g=CC[x](prod([x-xi for xi in r])*(f).lc())\n",
    "    if prod([is_integer(a,eps) for a in g.coefficients()]):\n",
    "        g=QQ[x](sum([almost_integer(a,eps)*x^m for (a,m) in zip(g.coefficients(),g.exponents())]))\n",
    "        [u,r]= f.quo_rem(g)\n",
    "        if r == 0:\n",
    "            ans = [g,u]\n",
    "            break\n",
    "L = zip(g.coefficients(),g.exponents())\n",
    "zip_L = list(L)\n",
    "print(zip_L)"
   ]
  },
  {
   "cell_type": "markdown",
   "metadata": {},
   "source": [
    "zip объединяет элементы из коэффициентов и степеней заданной переменной."
   ]
  },
  {
   "cell_type": "markdown",
   "metadata": {},
   "source": [
    "## Сравнение методов\n",
    "\n",
    "8.) Какой из двух методов быстрее?"
   ]
  },
  {
   "cell_type": "code",
   "execution_count": 53,
   "metadata": {},
   "outputs": [
    {
     "data": {
      "text/plain": [
       "-16*x^6 - 7*x^4 + 2*x^2 + 1"
      ]
     },
     "execution_count": 53,
     "metadata": {},
     "output_type": "execute_result"
    }
   ],
   "source": [
    "g=sum([(n+1)*x^n for n in range(4)])\n",
    "h=sum([(-1)^n*(n+1)*x^n for n in range(4)])\n",
    "f=QQ[x](g*h)\n",
    "f"
   ]
  },
  {
   "cell_type": "code",
   "execution_count": 42,
   "metadata": {},
   "outputs": [
    {
     "name": "stdout",
     "output_type": "stream",
     "text": [
      "1.31 s ± 61.2 ms per loop (mean ± std. dev. of 7 runs, 1 loop each)\n"
     ]
    }
   ],
   "source": [
    "%timeit Kronecker(f)"
   ]
  },
  {
   "cell_type": "code",
   "execution_count": 43,
   "metadata": {},
   "outputs": [
    {
     "name": "stdout",
     "output_type": "stream",
     "text": [
      "11.3 ms ± 713 µs per loop (mean ± std. dev. of 7 runs, 100 loops each)\n"
     ]
    }
   ],
   "source": [
    "%timeit alt_Kronecker(f)"
   ]
  },
  {
   "cell_type": "code",
   "execution_count": 44,
   "metadata": {},
   "outputs": [
    {
     "data": {
      "text/plain": [
       "50*x^13 + 5*x^12 + 34*x^11 + 10*x^10 + 18*x^9 + 15*x^8 + 12*x^7 + 9*x^6 + 6*x^5 + 3*x^4 + 2*x^2 + 1"
      ]
     },
     "execution_count": 44,
     "metadata": {},
     "output_type": "execute_result"
    }
   ],
   "source": [
    "g=sum([(n+1)*x^n for n in range(10)])\n",
    "h=sum([(-1)^n*(n+1)*x^n for n in range(5)])\n",
    "f=QQ[x](g*h)\n",
    "f"
   ]
  },
  {
   "cell_type": "code",
   "execution_count": 46,
   "metadata": {},
   "outputs": [
    {
     "data": {
      "text/plain": [
       "[50*x^4 - 40*x^3 + 30*x^2 - 20*x + 10,\n",
       " x^9 + 9/10*x^8 + 4/5*x^7 + 7/10*x^6 + 3/5*x^5 + 1/2*x^4 + 2/5*x^3 + 3/10*x^2 + 1/5*x + 1/10]"
      ]
     },
     "execution_count": 46,
     "metadata": {},
     "output_type": "execute_result"
    }
   ],
   "source": [
    "alt_Kronecker(f)"
   ]
  },
  {
   "cell_type": "markdown",
   "metadata": {},
   "source": [
    "alt_Kronecker(f) быстрее."
   ]
  },
  {
   "cell_type": "markdown",
   "metadata": {},
   "source": [
    "9.) Как модифицировать функцию alt_Kronecker, чтобы она работала с кратными корнями? \n",
    "\n",
    "Замечание. См. конец л.р. № 2. "
   ]
  },
  {
   "cell_type": "code",
   "execution_count": 123,
   "metadata": {},
   "outputs": [],
   "source": [
    "def alt_Kronecker(f,eps=10^-9):\n",
    "    x=f.variables()[0]\n",
    "    g=f.gcd(diff(f,x))\n",
    "    if g.degree()>0:\n",
    "        (u,r)=f.quo_rem(g)\n",
    "        ans=[g,u]\n",
    "    else:\n",
    "        R=Combinations(f.roots(CC,False))\n",
    "        for r in R[1:]:\n",
    "            g=CC[x](prod([x-xi for xi in r])*(f).lc())\n",
    "            if prod([is_integer(a,eps) for a in g.coefficients()]):\n",
    "                g=QQ[x](sum([almost_integer(a,eps)*x^m for (a,m) in zip(g.coefficients(),g.exponents())]))\n",
    "                (u,r)=f.quo_rem(g)\n",
    "                if r==0:\n",
    "                    ans=[g,u]\n",
    "                    break\n",
    "    return ans"
   ]
  },
  {
   "cell_type": "code",
   "execution_count": 55,
   "metadata": {},
   "outputs": [
    {
     "data": {
      "text/plain": [
       "[-16*x^3 - 12*x^2 - 8*x - 4, x^3 - 3/4*x^2 + 1/2*x - 1/4]"
      ]
     },
     "execution_count": 55,
     "metadata": {},
     "output_type": "execute_result"
    }
   ],
   "source": [
    "f=QQ[x](-16*x^6 - 7*x^4 + 2*x^2 + 1)\n",
    "alt_Kronecker(f)"
   ]
  },
  {
   "cell_type": "code",
   "execution_count": 54,
   "metadata": {},
   "outputs": [
    {
     "data": {
      "text/plain": [
       "[x + 5, x^4 - 2*x^2 + 1]"
      ]
     },
     "execution_count": 54,
     "metadata": {},
     "output_type": "execute_result"
    }
   ],
   "source": [
    "f=QQ[x]((x^2-1)^2*(x+5))\n",
    "alt_Kronecker(f)"
   ]
  }
 ],
 "metadata": {
  "kernelspec": {
   "display_name": "SageMath 9.3",
   "language": "sage",
   "name": "sagemath"
  },
  "language_info": {
   "codemirror_mode": {
    "name": "ipython",
    "version": 3
   },
   "file_extension": ".py",
   "mimetype": "text/x-python",
   "name": "python",
   "nbconvert_exporter": "python",
   "pygments_lexer": "ipython3",
   "version": "3.7.10"
  }
 },
 "nbformat": 4,
 "nbformat_minor": 5
}
