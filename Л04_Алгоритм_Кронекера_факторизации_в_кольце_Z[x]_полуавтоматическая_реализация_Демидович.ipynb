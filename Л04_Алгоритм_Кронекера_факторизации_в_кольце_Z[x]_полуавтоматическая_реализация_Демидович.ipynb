{
 "cells": [
  {
   "cell_type": "markdown",
   "metadata": {},
   "source": [
    "# Алгоритм Кронекера, полуавтоматическая реализация\n",
    "\n",
    "Задача. Дан многочлен $f \\in \\mathbb{Z}[x]$, трубется выяснить, является ли он простым.\n",
    "\n",
    "Для решения этой задачи нужны несколько функций из комбинаторики, реализованные в Sage. "
   ]
  },
  {
   "cell_type": "markdown",
   "metadata": {},
   "source": [
    "1.) Для чего служит zip в коде Python?"
   ]
  },
  {
   "cell_type": "code",
   "execution_count": 14,
   "metadata": {},
   "outputs": [
    {
     "data": {
      "text/plain": [
       "<zip object at 0x6ffedc856410>"
      ]
     },
     "execution_count": 14,
     "metadata": {},
     "output_type": "execute_result"
    }
   ],
   "source": [
    "L=zip(['a','b'],[1,2])\n",
    "L"
   ]
  },
  {
   "cell_type": "markdown",
   "metadata": {},
   "source": [
    "Эта функция возвращает \"итератор\", который можно превраить в обычный список. "
   ]
  },
  {
   "cell_type": "code",
   "execution_count": 15,
   "metadata": {},
   "outputs": [
    {
     "data": {
      "text/plain": [
       "[('a', 1), ('b', 2)]"
      ]
     },
     "execution_count": 15,
     "metadata": {},
     "output_type": "execute_result"
    }
   ],
   "source": [
    "list(L)"
   ]
  },
  {
   "cell_type": "markdown",
   "metadata": {},
   "source": [
    "Но лучше использовать функцию next. При каждом ее вызове будет возвращаться следующий элемент L."
   ]
  },
  {
   "cell_type": "code",
   "execution_count": 16,
   "metadata": {},
   "outputs": [
    {
     "data": {
      "text/plain": [
       "('a', 1)"
      ]
     },
     "execution_count": 16,
     "metadata": {},
     "output_type": "execute_result"
    }
   ],
   "source": [
    "L=zip(['a','b'],[1,2])\n",
    "next(L)"
   ]
  },
  {
   "cell_type": "code",
   "execution_count": 17,
   "metadata": {},
   "outputs": [
    {
     "data": {
      "text/plain": [
       "('b', 2)"
      ]
     },
     "execution_count": 17,
     "metadata": {},
     "output_type": "execute_result"
    }
   ],
   "source": [
    "next(L)"
   ]
  },
  {
   "cell_type": "code",
   "execution_count": 18,
   "metadata": {},
   "outputs": [
    {
     "ename": "StopIteration",
     "evalue": "",
     "output_type": "error",
     "traceback": [
      "\u001b[0;31m---------------------------------------------------------------------------\u001b[0m",
      "\u001b[0;31mStopIteration\u001b[0m                             Traceback (most recent call last)",
      "\u001b[0;32m<ipython-input-18-26788c61f395>\u001b[0m in \u001b[0;36m<module>\u001b[0;34m\u001b[0m\n\u001b[0;32m----> 1\u001b[0;31m \u001b[0mnext\u001b[0m\u001b[0;34m(\u001b[0m\u001b[0mL\u001b[0m\u001b[0;34m)\u001b[0m\u001b[0;34m\u001b[0m\u001b[0;34m\u001b[0m\u001b[0m\n\u001b[0m",
      "\u001b[0;31mStopIteration\u001b[0m: "
     ]
    }
   ],
   "source": [
    "next(L)"
   ]
  },
  {
   "cell_type": "markdown",
   "metadata": {},
   "source": [
    "2.) Что делает функция Combinations, встроенная в Sage?"
   ]
  },
  {
   "cell_type": "code",
   "execution_count": 21,
   "metadata": {},
   "outputs": [
    {
     "data": {
      "text/plain": [
       "Combinations of [0, 1, 2, 3, 4]"
      ]
     },
     "execution_count": 21,
     "metadata": {},
     "output_type": "execute_result"
    }
   ],
   "source": [
    "Combinations(range(5))"
   ]
  },
  {
   "cell_type": "code",
   "execution_count": 22,
   "metadata": {},
   "outputs": [
    {
     "data": {
      "text/plain": [
       "[[],\n",
       " [0],\n",
       " [1],\n",
       " [2],\n",
       " [3],\n",
       " [4],\n",
       " [0, 1],\n",
       " [0, 2],\n",
       " [0, 3],\n",
       " [0, 4],\n",
       " [1, 2],\n",
       " [1, 3],\n",
       " [1, 4],\n",
       " [2, 3],\n",
       " [2, 4],\n",
       " [3, 4],\n",
       " [0, 1, 2],\n",
       " [0, 1, 3],\n",
       " [0, 1, 4],\n",
       " [0, 2, 3],\n",
       " [0, 2, 4],\n",
       " [0, 3, 4],\n",
       " [1, 2, 3],\n",
       " [1, 2, 4],\n",
       " [1, 3, 4],\n",
       " [2, 3, 4],\n",
       " [0, 1, 2, 3],\n",
       " [0, 1, 2, 4],\n",
       " [0, 1, 3, 4],\n",
       " [0, 2, 3, 4],\n",
       " [1, 2, 3, 4],\n",
       " [0, 1, 2, 3, 4]]"
      ]
     },
     "execution_count": 22,
     "metadata": {},
     "output_type": "execute_result"
    }
   ],
   "source": [
    "Combinations(range(5)).list()"
   ]
  },
  {
   "cell_type": "code",
   "execution_count": 25,
   "metadata": {},
   "outputs": [
    {
     "data": {
      "text/plain": [
       "[[0, 1, 2],\n",
       " [0, 1, 3],\n",
       " [0, 1, 4],\n",
       " [0, 2, 3],\n",
       " [0, 2, 4],\n",
       " [0, 3, 4],\n",
       " [1, 2, 3],\n",
       " [1, 2, 4],\n",
       " [1, 3, 4],\n",
       " [2, 3, 4]]"
      ]
     },
     "execution_count": 25,
     "metadata": {},
     "output_type": "execute_result"
    }
   ],
   "source": [
    "Combinations(range(5),3).list()"
   ]
  },
  {
   "cell_type": "markdown",
   "metadata": {},
   "source": [
    "Функция возвращает все возможные комбинации чисел из range, в которых n не превосзодит n + 1. Вторым парметром можно указать по сколько чисел будет в комбинациях."
   ]
  },
  {
   "cell_type": "markdown",
   "metadata": {},
   "source": [
    "3.) Что делает след. функция? Что на ее входе? Что на выходе? "
   ]
  },
  {
   "cell_type": "code",
   "execution_count": 26,
   "metadata": {},
   "outputs": [],
   "source": [
    "def factors_p(n):\n",
    "    ans=[]\n",
    "    for (p,m)  in ZZ(n).factor():\n",
    "        ans=ans+[p for mm in range(m)]\n",
    "    return Combinations(ans)"
   ]
  },
  {
   "cell_type": "code",
   "execution_count": 34,
   "metadata": {},
   "outputs": [
    {
     "data": {
      "text/plain": [
       "Combinations of [2, 2, 2, 2]"
      ]
     },
     "execution_count": 34,
     "metadata": {},
     "output_type": "execute_result"
    }
   ],
   "source": [
    "factors_p(16)"
   ]
  },
  {
   "cell_type": "markdown",
   "metadata": {},
   "source": [
    "Функция возвращает список из максимального количества множителей из которого состоит число (исключая единицу, их можно написать бесконечно много). Эти множители можно как угодно комбинировать, в конце все равно получится заданное число."
   ]
  },
  {
   "cell_type": "code",
   "execution_count": 35,
   "metadata": {},
   "outputs": [
    {
     "data": {
      "text/plain": [
       "[1, 2, 4, 8, 16]"
      ]
     },
     "execution_count": 35,
     "metadata": {},
     "output_type": "execute_result"
    }
   ],
   "source": [
    "[prod(a) for a in factors_p(16)]"
   ]
  },
  {
   "cell_type": "markdown",
   "metadata": {},
   "source": [
    "Замечание. Простой множитель повторяется столько раз, какова его кратность. "
   ]
  },
  {
   "cell_type": "markdown",
   "metadata": {},
   "source": [
    "4.) Что делает след. функция? "
   ]
  },
  {
   "cell_type": "code",
   "execution_count": 32,
   "metadata": {},
   "outputs": [],
   "source": [
    "def factors(n):\n",
    "    ans=[]\n",
    "    for (p,m)  in ZZ(abs(n)).factor():\n",
    "        ans=ans+[p for mm in range(m)]\n",
    "    return [(-1)^k*prod(a) for a in Combinations(ans) for k in [0,1]]"
   ]
  },
  {
   "cell_type": "code",
   "execution_count": 36,
   "metadata": {},
   "outputs": [
    {
     "data": {
      "text/plain": [
       "[1, -1, 2, -2, 4, -4, 8, -8, 16, -16]"
      ]
     },
     "execution_count": 36,
     "metadata": {},
     "output_type": "execute_result"
    }
   ],
   "source": [
    "factors(16)"
   ]
  },
  {
   "cell_type": "markdown",
   "metadata": {},
   "source": [
    "Выводит список всех возможных множителей, из которых можно составить заданное число."
   ]
  },
  {
   "cell_type": "markdown",
   "metadata": {},
   "source": [
    "5.) Для чего служит функция product пакета itertools?"
   ]
  },
  {
   "cell_type": "code",
   "execution_count": 37,
   "metadata": {},
   "outputs": [
    {
     "data": {
      "text/plain": [
       "[(1, 'a', 'A'),\n",
       " (1, 'a', 'B'),\n",
       " (1, 'a', 'C'),\n",
       " (1, 'b', 'A'),\n",
       " (1, 'b', 'B'),\n",
       " (1, 'b', 'C'),\n",
       " (2, 'a', 'A'),\n",
       " (2, 'a', 'B'),\n",
       " (2, 'a', 'C'),\n",
       " (2, 'b', 'A'),\n",
       " (2, 'b', 'B'),\n",
       " (2, 'b', 'C'),\n",
       " (3, 'a', 'A'),\n",
       " (3, 'a', 'B'),\n",
       " (3, 'a', 'C'),\n",
       " (3, 'b', 'A'),\n",
       " (3, 'b', 'B'),\n",
       " (3, 'b', 'C'),\n",
       " (4, 'a', 'A'),\n",
       " (4, 'a', 'B'),\n",
       " (4, 'a', 'C'),\n",
       " (4, 'b', 'A'),\n",
       " (4, 'b', 'B'),\n",
       " (4, 'b', 'C')]"
      ]
     },
     "execution_count": 37,
     "metadata": {},
     "output_type": "execute_result"
    }
   ],
   "source": [
    "import itertools\n",
    "L1 = [1,2,3,4]\n",
    "L2 = ['a','b']\n",
    "L3 = ['A','B', 'C']\n",
    "list(itertools.product(L1,L2,L3))"
   ]
  },
  {
   "cell_type": "markdown",
   "metadata": {},
   "source": [
    "Замечание. Пакет itertools для Sage сторонний. "
   ]
  },
  {
   "cell_type": "markdown",
   "metadata": {},
   "source": [
    "Эта функция возвращает \"итератор\", который можно превраить в обычный список. Но лучше использовать функцию next. При каждом ее вызове будет возвращаться следующий элемент L."
   ]
  },
  {
   "cell_type": "code",
   "execution_count": 39,
   "metadata": {},
   "outputs": [
    {
     "data": {
      "text/plain": [
       "<class 'itertools.product'>"
      ]
     },
     "execution_count": 39,
     "metadata": {},
     "output_type": "execute_result"
    }
   ],
   "source": [
    "L=itertools.product(L1,L2,L3)\n",
    "type(L)"
   ]
  },
  {
   "cell_type": "code",
   "execution_count": 40,
   "metadata": {},
   "outputs": [
    {
     "data": {
      "text/plain": [
       "(1, 'a', 'A')"
      ]
     },
     "execution_count": 40,
     "metadata": {},
     "output_type": "execute_result"
    }
   ],
   "source": [
    "next(L)"
   ]
  },
  {
   "cell_type": "code",
   "execution_count": 41,
   "metadata": {},
   "outputs": [
    {
     "data": {
      "text/plain": [
       "(1, 'a', 'B')"
      ]
     },
     "execution_count": 41,
     "metadata": {},
     "output_type": "execute_result"
    }
   ],
   "source": [
    "next(L)"
   ]
  },
  {
   "cell_type": "markdown",
   "metadata": {},
   "source": [
    "6.) Примените алгоритм Кронекера к многочлену $2x^3 - x^2 + 10x - 5$."
   ]
  },
  {
   "cell_type": "code",
   "execution_count": 42,
   "metadata": {},
   "outputs": [],
   "source": [
    "f=2*x^3 - x^2 + 10*x - 5"
   ]
  },
  {
   "cell_type": "markdown",
   "metadata": {},
   "source": [
    "Если этот многочлен не является простым, то делится на многочлен $g$ степени 1:\n",
    "$$\n",
    "f=gh.\n",
    "$$\n",
    "При $x=0$ значение $g(0)$ является фактором $f(0)$"
   ]
  },
  {
   "cell_type": "code",
   "execution_count": 43,
   "metadata": {},
   "outputs": [
    {
     "data": {
      "text/plain": [
       "[1, -1, 5, -5]"
      ]
     },
     "execution_count": 43,
     "metadata": {},
     "output_type": "execute_result"
    }
   ],
   "source": [
    "L1=factors(f.subs(x=0))\n",
    "L1"
   ]
  },
  {
   "cell_type": "markdown",
   "metadata": {},
   "source": [
    "При $x=1$ значение $g(1)$ является фактором $f(1)$"
   ]
  },
  {
   "cell_type": "code",
   "execution_count": 44,
   "metadata": {},
   "outputs": [
    {
     "data": {
      "text/plain": [
       "[1, -1, 2, -2, 3, -3, 6, -6]"
      ]
     },
     "execution_count": 44,
     "metadata": {},
     "output_type": "execute_result"
    }
   ],
   "source": [
    "L2=factors(f.subs(x=1))\n",
    "L2"
   ]
  },
  {
   "cell_type": "markdown",
   "metadata": {},
   "source": [
    "Таким образом, $g$ в точках $x=0$ и $x=1$ принимает одну из следующих пар значений."
   ]
  },
  {
   "cell_type": "code",
   "execution_count": 45,
   "metadata": {},
   "outputs": [
    {
     "data": {
      "text/plain": [
       "[(1, 1),\n",
       " (1, -1),\n",
       " (1, 2),\n",
       " (1, -2),\n",
       " (1, 3),\n",
       " (1, -3),\n",
       " (1, 6),\n",
       " (1, -6),\n",
       " (-1, 1),\n",
       " (-1, -1),\n",
       " (-1, 2),\n",
       " (-1, -2),\n",
       " (-1, 3),\n",
       " (-1, -3),\n",
       " (-1, 6),\n",
       " (-1, -6),\n",
       " (5, 1),\n",
       " (5, -1),\n",
       " (5, 2),\n",
       " (5, -2),\n",
       " (5, 3),\n",
       " (5, -3),\n",
       " (5, 6),\n",
       " (5, -6),\n",
       " (-5, 1),\n",
       " (-5, -1),\n",
       " (-5, 2),\n",
       " (-5, -2),\n",
       " (-5, 3),\n",
       " (-5, -3),\n",
       " (-5, 6),\n",
       " (-5, -6)]"
      ]
     },
     "execution_count": 45,
     "metadata": {},
     "output_type": "execute_result"
    }
   ],
   "source": [
    "list(itertools.product(L1,L2))"
   ]
  },
  {
   "cell_type": "markdown",
   "metadata": {},
   "source": [
    "Для восстановления $g$ воспользуемся функцией "
   ]
  },
  {
   "cell_type": "code",
   "execution_count": 46,
   "metadata": {},
   "outputs": [],
   "source": [
    "def ipoly(points,x=x):\n",
    "    m=1\n",
    "    f=0\n",
    "    for (xx,yy) in points:\n",
    "        f=f+ (yy-f.subs([x==xx]))*m/m.subs([x==xx])\n",
    "        m=m*(x-xx)\n",
    "    return f"
   ]
  },
  {
   "cell_type": "code",
   "execution_count": 47,
   "metadata": {},
   "outputs": [
    {
     "data": {
      "text/plain": [
       "<itertools.product object at 0x6ffedc9a3eb0>"
      ]
     },
     "execution_count": 47,
     "metadata": {},
     "output_type": "execute_result"
    }
   ],
   "source": [
    "L=itertools.product(L1,L2)\n",
    "L"
   ]
  },
  {
   "cell_type": "markdown",
   "metadata": {},
   "source": [
    "Запускаем след. код 2 раза, пока не получим делитель или не кончится список L. "
   ]
  },
  {
   "cell_type": "code",
   "execution_count": 48,
   "metadata": {},
   "outputs": [
    {
     "name": "stdout",
     "output_type": "stream",
     "text": [
      "1\n"
     ]
    },
    {
     "data": {
      "text/plain": [
       "(2*x^3 - x^2 + 10*x - 5, 0)"
      ]
     },
     "execution_count": 48,
     "metadata": {},
     "output_type": "execute_result"
    }
   ],
   "source": [
    "l=next(L)\n",
    "g=ipoly(zip((0,1),l))\n",
    "print(g)\n",
    "QQ[x](f).quo_rem(QQ[x](g))"
   ]
  },
  {
   "cell_type": "markdown",
   "metadata": {},
   "source": [
    "Вопрос. Зачем нам zip?\n",
    "\n",
    "Ответ: многочлен не является простым, он делится на $1-2x$."
   ]
  },
  {
   "cell_type": "markdown",
   "metadata": {},
   "source": [
    "7.) Примените алгоритм Кронекера к многочлену $2x^5 + x - 1$."
   ]
  },
  {
   "cell_type": "code",
   "execution_count": 49,
   "metadata": {},
   "outputs": [],
   "source": [
    "f=2*x^5 + x - 1"
   ]
  },
  {
   "cell_type": "markdown",
   "metadata": {},
   "source": [
    "Если этот многочлен не является простым, то делится на многочлен $g$ степени 2:\n",
    "$$\n",
    "f=gh.\n",
    "$$\n",
    "При $x=0$ значение $g(0)$ является фактором $f(0)$"
   ]
  },
  {
   "cell_type": "code",
   "execution_count": 50,
   "metadata": {},
   "outputs": [
    {
     "data": {
      "text/plain": [
       "[1, -1]"
      ]
     },
     "execution_count": 50,
     "metadata": {},
     "output_type": "execute_result"
    }
   ],
   "source": [
    "L1=factors(f.subs(x=0))\n",
    "L1"
   ]
  },
  {
   "cell_type": "markdown",
   "metadata": {},
   "source": [
    "При $x=1$ значение $g(1)$ является фактором $f(1)$"
   ]
  },
  {
   "cell_type": "code",
   "execution_count": 51,
   "metadata": {},
   "outputs": [
    {
     "data": {
      "text/plain": [
       "[1, -1, 2, -2]"
      ]
     },
     "execution_count": 51,
     "metadata": {},
     "output_type": "execute_result"
    }
   ],
   "source": [
    "L2=factors(f.subs(x=1))\n",
    "L2"
   ]
  },
  {
   "cell_type": "markdown",
   "metadata": {},
   "source": [
    "При $x=2$ значение $g(2)$ является фактором $f(2)$."
   ]
  },
  {
   "cell_type": "code",
   "execution_count": 38,
   "metadata": {},
   "outputs": [
    {
     "data": {
      "text/plain": [
       "[1, -1, 5, -5, 13, -13, 65, -65]"
      ]
     },
     "execution_count": 38,
     "metadata": {},
     "output_type": "execute_result"
    }
   ],
   "source": [
    "L3=factors(f.subs(x=2))\n",
    "L3"
   ]
  },
  {
   "cell_type": "markdown",
   "metadata": {},
   "source": [
    "Таким образом, $g$ в точках $x=0$, $x=1$ и $x=2$ принимает одну из следующих троек значений."
   ]
  },
  {
   "cell_type": "code",
   "execution_count": 39,
   "metadata": {},
   "outputs": [
    {
     "data": {
      "text/plain": [
       "<itertools.product object at 0x6ffed76196e0>"
      ]
     },
     "execution_count": 39,
     "metadata": {},
     "output_type": "execute_result"
    }
   ],
   "source": [
    "itertools.product(L1,L2,L3)"
   ]
  },
  {
   "cell_type": "markdown",
   "metadata": {},
   "source": [
    "Список большой и перебирать его руками не удобно. "
   ]
  },
  {
   "cell_type": "code",
   "execution_count": 41,
   "metadata": {},
   "outputs": [
    {
     "name": "stdout",
     "output_type": "stream",
     "text": [
      "-(x - 1)*x + 1\n",
      "2*(x - 1)*x + 1\n",
      "-3*(x - 1)*x + 1\n",
      "6*(x - 1)*x + 1\n",
      "-7*(x - 1)*x + 1\n",
      "32*(x - 1)*x + 1\n",
      "-33*(x - 1)*x + 1\n",
      "2*(x - 1)*x - 2*x + 1\n",
      "(x - 1)*x - 2*x + 1\n",
      "4*(x - 1)*x - 2*x + 1\n",
      "-(x - 1)*x - 2*x + 1\n",
      "8*(x - 1)*x - 2*x + 1\n",
      "-5*(x - 1)*x - 2*x + 1\n",
      "34*(x - 1)*x - 2*x + 1\n",
      "-31*(x - 1)*x - 2*x + 1\n",
      "-(x - 1)*x + x + 1\n",
      "-2*(x - 1)*x + x + 1\n",
      "(x - 1)*x + x + 1\n",
      "-4*(x - 1)*x + x + 1\n",
      "5*(x - 1)*x + x + 1\n",
      "-8*(x - 1)*x + x + 1\n",
      "31*(x - 1)*x + x + 1\n",
      "-34*(x - 1)*x + x + 1\n",
      "3*(x - 1)*x - 3*x + 1\n",
      "2*(x - 1)*x - 3*x + 1\n",
      "5*(x - 1)*x - 3*x + 1\n",
      "-3*x + 1\n",
      "9*(x - 1)*x - 3*x + 1\n",
      "-4*(x - 1)*x - 3*x + 1\n",
      "35*(x - 1)*x - 3*x + 1\n",
      "-30*(x - 1)*x - 3*x + 1\n",
      "-(x - 1)*x + 2*x - 1\n",
      "-2*(x - 1)*x + 2*x - 1\n",
      "(x - 1)*x + 2*x - 1\n",
      "-4*(x - 1)*x + 2*x - 1\n",
      "5*(x - 1)*x + 2*x - 1\n",
      "-8*(x - 1)*x + 2*x - 1\n",
      "31*(x - 1)*x + 2*x - 1\n",
      "-34*(x - 1)*x + 2*x - 1\n",
      "(x - 1)*x - 1\n",
      "3*(x - 1)*x - 1\n",
      "-2*(x - 1)*x - 1\n",
      "7*(x - 1)*x - 1\n",
      "-6*(x - 1)*x - 1\n",
      "33*(x - 1)*x - 1\n",
      "-32*(x - 1)*x - 1\n",
      "-2*(x - 1)*x + 3*x - 1\n",
      "-3*(x - 1)*x + 3*x - 1\n",
      "3*x - 1\n",
      "-5*(x - 1)*x + 3*x - 1\n",
      "4*(x - 1)*x + 3*x - 1\n",
      "-9*(x - 1)*x + 3*x - 1\n",
      "30*(x - 1)*x + 3*x - 1\n",
      "-35*(x - 1)*x + 3*x - 1\n",
      "2*(x - 1)*x - x - 1\n",
      "(x - 1)*x - x - 1\n",
      "4*(x - 1)*x - x - 1\n",
      "-(x - 1)*x - x - 1\n",
      "8*(x - 1)*x - x - 1\n",
      "-5*(x - 1)*x - x - 1\n",
      "34*(x - 1)*x - x - 1\n",
      "-31*(x - 1)*x - x - 1\n"
     ]
    },
    {
     "ename": "StopIteration",
     "evalue": "",
     "output_type": "error",
     "traceback": [
      "\u001b[0;31m---------------------------------------------------------------------------\u001b[0m",
      "\u001b[0;31mStopIteration\u001b[0m                             Traceback (most recent call last)",
      "\u001b[0;32m<ipython-input-41-fae2d9a2f2c1>\u001b[0m in \u001b[0;36m<module>\u001b[0;34m\u001b[0m\n\u001b[1;32m      2\u001b[0m \u001b[0mr\u001b[0m\u001b[0;34m=\u001b[0m\u001b[0mInteger\u001b[0m\u001b[0;34m(\u001b[0m\u001b[0;36m1\u001b[0m\u001b[0;34m)\u001b[0m\u001b[0;34m\u001b[0m\u001b[0;34m\u001b[0m\u001b[0m\n\u001b[1;32m      3\u001b[0m \u001b[0;32mwhile\u001b[0m \u001b[0mr\u001b[0m\u001b[0;34m!=\u001b[0m\u001b[0mInteger\u001b[0m\u001b[0;34m(\u001b[0m\u001b[0;36m0\u001b[0m\u001b[0;34m)\u001b[0m\u001b[0;34m:\u001b[0m\u001b[0;34m\u001b[0m\u001b[0;34m\u001b[0m\u001b[0m\n\u001b[0;32m----> 4\u001b[0;31m     \u001b[0ml\u001b[0m\u001b[0;34m=\u001b[0m\u001b[0mnext\u001b[0m\u001b[0;34m(\u001b[0m\u001b[0mL\u001b[0m\u001b[0;34m)\u001b[0m\u001b[0;34m\u001b[0m\u001b[0;34m\u001b[0m\u001b[0m\n\u001b[0m\u001b[1;32m      5\u001b[0m     \u001b[0mg\u001b[0m\u001b[0;34m=\u001b[0m\u001b[0mipoly\u001b[0m\u001b[0;34m(\u001b[0m\u001b[0mzip\u001b[0m\u001b[0;34m(\u001b[0m\u001b[0;34m(\u001b[0m\u001b[0mInteger\u001b[0m\u001b[0;34m(\u001b[0m\u001b[0;36m0\u001b[0m\u001b[0;34m)\u001b[0m\u001b[0;34m,\u001b[0m\u001b[0mInteger\u001b[0m\u001b[0;34m(\u001b[0m\u001b[0;36m1\u001b[0m\u001b[0;34m)\u001b[0m\u001b[0;34m,\u001b[0m\u001b[0mInteger\u001b[0m\u001b[0;34m(\u001b[0m\u001b[0;36m2\u001b[0m\u001b[0;34m)\u001b[0m\u001b[0;34m)\u001b[0m\u001b[0;34m,\u001b[0m\u001b[0ml\u001b[0m\u001b[0;34m)\u001b[0m\u001b[0;34m)\u001b[0m\u001b[0;34m\u001b[0m\u001b[0;34m\u001b[0m\u001b[0m\n\u001b[1;32m      6\u001b[0m     \u001b[0;32mif\u001b[0m \u001b[0mQQ\u001b[0m\u001b[0;34m[\u001b[0m\u001b[0mx\u001b[0m\u001b[0;34m]\u001b[0m\u001b[0;34m(\u001b[0m\u001b[0mg\u001b[0m\u001b[0;34m)\u001b[0m\u001b[0;34m.\u001b[0m\u001b[0mdegree\u001b[0m\u001b[0;34m(\u001b[0m\u001b[0;34m)\u001b[0m\u001b[0;34m>\u001b[0m\u001b[0mInteger\u001b[0m\u001b[0;34m(\u001b[0m\u001b[0;36m0\u001b[0m\u001b[0;34m)\u001b[0m \u001b[0;32mand\u001b[0m \u001b[0mQQ\u001b[0m\u001b[0;34m[\u001b[0m\u001b[0mx\u001b[0m\u001b[0;34m]\u001b[0m\u001b[0;34m(\u001b[0m\u001b[0mg\u001b[0m\u001b[0;34m)\u001b[0m\u001b[0;34m.\u001b[0m\u001b[0mdegree\u001b[0m\u001b[0;34m(\u001b[0m\u001b[0;34m)\u001b[0m\u001b[0;34m<\u001b[0m\u001b[0mQQ\u001b[0m\u001b[0;34m[\u001b[0m\u001b[0mx\u001b[0m\u001b[0;34m]\u001b[0m\u001b[0;34m(\u001b[0m\u001b[0mf\u001b[0m\u001b[0;34m)\u001b[0m\u001b[0;34m.\u001b[0m\u001b[0mdegree\u001b[0m\u001b[0;34m(\u001b[0m\u001b[0;34m)\u001b[0m\u001b[0;34m/\u001b[0m\u001b[0mInteger\u001b[0m\u001b[0;34m(\u001b[0m\u001b[0;36m2\u001b[0m\u001b[0;34m)\u001b[0m\u001b[0;34m:\u001b[0m\u001b[0;34m\u001b[0m\u001b[0;34m\u001b[0m\u001b[0m\n",
      "\u001b[0;31mStopIteration\u001b[0m: "
     ]
    }
   ],
   "source": [
    "L=itertools.product(L1,L2,L3)\n",
    "r=1\n",
    "while r!=0:\n",
    "    l=next(L)\n",
    "    g=ipoly(zip((0,1,2),l))\n",
    "    if QQ[x](g).degree()>0 and QQ[x](g).degree()<QQ[x](f).degree()/2:\n",
    "        print(g)\n",
    "        [u,r]=QQ[x](f).quo_rem(QQ[x](g))"
   ]
  },
  {
   "cell_type": "markdown",
   "metadata": {},
   "source": [
    "Сообщение об ошибке (StopIteration) означает, что мы перебрали все варианты, но делитель так и не нашли. "
   ]
  },
  {
   "cell_type": "markdown",
   "metadata": {},
   "source": [
    "8.) Как обработать ошибку StopIteration? "
   ]
  },
  {
   "cell_type": "code",
   "execution_count": null,
   "metadata": {},
   "outputs": [],
   "source": [
    "L=itertools.product(L1,L2,L3)\n",
    "r=1\n",
    "while r!=0:\n",
    "    try:\n",
    "        l=next(L)\n",
    "        g=ipoly(zip((0,1,2),l))\n",
    "        if QQ[x](g).degree()>0 and QQ[x](g).degree()<QQ[x](f).degree()/2:\n",
    "            print(g)\n",
    "            [u,r]=QQ[x](f).quo_rem(QQ[x](g))\n",
    "    except StopIteration as err:\n",
    "        print('poly is prime')\n",
    "        break"
   ]
  },
  {
   "cell_type": "markdown",
   "metadata": {},
   "source": [
    "Вопрос. Что будет, если убрать break?"
   ]
  },
  {
   "cell_type": "markdown",
   "metadata": {},
   "source": [
    "Будет бесконечный цикл"
   ]
  },
  {
   "cell_type": "code",
   "execution_count": null,
   "metadata": {},
   "outputs": [],
   "source": []
  }
 ],
 "metadata": {
  "kernelspec": {
   "display_name": "SageMath 9.3",
   "language": "sage",
   "name": "sagemath"
  },
  "language_info": {
   "codemirror_mode": {
    "name": "ipython",
    "version": 3
   },
   "file_extension": ".py",
   "mimetype": "text/x-python",
   "name": "python",
   "nbconvert_exporter": "python",
   "pygments_lexer": "ipython3",
   "version": "3.7.10"
  }
 },
 "nbformat": 4,
 "nbformat_minor": 5
}
