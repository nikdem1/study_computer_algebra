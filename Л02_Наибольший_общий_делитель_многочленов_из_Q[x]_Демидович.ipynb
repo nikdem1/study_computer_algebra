{
 "cells": [
  {
   "cell_type": "markdown",
   "metadata": {},
   "source": [
    "# Наибольший общий делитель\n",
    "\n",
    "Задача 1. Дано два многочлена $f$ и $g$. Требуется найти их наибольший общий делитель $h$. \n",
    "\n",
    "Задача 2. Дан идеал $(f,g)$ полиномиального кольца. Требуется найти его представление в виде главного идеала $(h)$. "
   ]
  },
  {
   "cell_type": "markdown",
   "metadata": {},
   "source": [
    "1.) Найдем НОД двух многочленов руками при помощи функции:"
   ]
  },
  {
   "cell_type": "code",
   "execution_count": 1,
   "metadata": {},
   "outputs": [],
   "source": [
    "def quo_rem_poly(f,q):\n",
    "    K=f.parent()\n",
    "    n=0\n",
    "    while f.degree()>=q.degree():\n",
    "        ni=K(f.lt()/q.lt())\n",
    "        n=n+ni\n",
    "        f=f-ni*q\n",
    "    return (n,f)"
   ]
  },
  {
   "cell_type": "code",
   "execution_count": 2,
   "metadata": {},
   "outputs": [
    {
     "name": "stdout",
     "output_type": "stream",
     "text": [
      "(0, x^3 - 2)\n"
     ]
    }
   ],
   "source": [
    "var(\"x\")\n",
    "f=QQ[x](x^3-2)\n",
    "g=QQ[x](x^4 + x^3 - x - 1)\n",
    "(u1,r1)=quo_rem_poly(f,g)\n",
    "print((u1,r1))"
   ]
  },
  {
   "cell_type": "markdown",
   "metadata": {},
   "source": [
    "При этом $f-u_1 g = r_1$, то есть НОД(f,g)=НОД(g,r1)."
   ]
  },
  {
   "cell_type": "code",
   "execution_count": 4,
   "metadata": {},
   "outputs": [
    {
     "name": "stdout",
     "output_type": "stream",
     "text": [
      "(x + 1, x + 1)\n"
     ]
    }
   ],
   "source": [
    "(u2,r2)=quo_rem_poly(g,r1)\n",
    "print((u2,r2))"
   ]
  },
  {
   "cell_type": "markdown",
   "metadata": {},
   "source": [
    "При этом $g-u_2 r_1 = r_2$, то есть НОД(f,g)=НОД(r1,r2)."
   ]
  },
  {
   "cell_type": "code",
   "execution_count": 5,
   "metadata": {},
   "outputs": [
    {
     "name": "stdout",
     "output_type": "stream",
     "text": [
      "(x^2 - x + 1, -3)\n"
     ]
    }
   ],
   "source": [
    "(u3,r3)=quo_rem_poly(r1,r2)\n",
    "print((u3,r3))"
   ]
  },
  {
   "cell_type": "markdown",
   "metadata": {},
   "source": [
    "$r_1$ делится на $r_2$, поэтому НОД(f,g)=r2. "
   ]
  },
  {
   "cell_type": "markdown",
   "metadata": {},
   "source": [
    "2.) Напишем свою функцию gcd_poly. Вход: многочлены f,g, выход: их НОД. "
   ]
  },
  {
   "cell_type": "code",
   "execution_count": 19,
   "metadata": {},
   "outputs": [],
   "source": [
    "def gcd_poly(f,g):\n",
    "    if f.degree()<g.degree():\n",
    "        (f,g)=(g,f)\n",
    "    (u,r)=quo_rem_poly(f,g)\n",
    "    while r!=0 or r.degree()==0:\n",
    "        (f,g)=(g,r)\n",
    "        (u,r)=quo_rem_poly(f,g)\n",
    "    if g.degree()==0:\n",
    "        g=1\n",
    "    return g"
   ]
  },
  {
   "cell_type": "markdown",
   "metadata": {},
   "source": [
    "3.) Проверим на нескольких тестовых примерах."
   ]
  },
  {
   "cell_type": "code",
   "execution_count": 20,
   "metadata": {},
   "outputs": [
    {
     "data": {
      "text/plain": [
       "1"
      ]
     },
     "execution_count": 20,
     "metadata": {},
     "output_type": "execute_result"
    }
   ],
   "source": [
    "f=QQ[x](x^3-2)\n",
    "g=QQ[x](x^4 + x^3 - x - 1)\n",
    "gcd_poly(f,g)"
   ]
  },
  {
   "cell_type": "code",
   "execution_count": 21,
   "metadata": {},
   "outputs": [
    {
     "data": {
      "text/plain": [
       "(8/9) * (x + 1)^2 * (x^2 - x + 1)^2"
      ]
     },
     "execution_count": 21,
     "metadata": {},
     "output_type": "execute_result"
    }
   ],
   "source": [
    "f=QQ[x]((x^3+1)^2*(x^3-2*x-1))\n",
    "g=QQ[x]((x^3+1)^2*(x^4+1))\n",
    "gcd_poly(f,g).factor()"
   ]
  },
  {
   "cell_type": "code",
   "execution_count": 27,
   "metadata": {},
   "outputs": [
    {
     "data": {
      "text/plain": [
       "1"
      ]
     },
     "execution_count": 27,
     "metadata": {},
     "output_type": "execute_result"
    }
   ],
   "source": [
    "f = QQ[x]((2*x^5+12)*(x^4+3*x^2+12)^6)\n",
    "g = QQ[x]((4*x^5+x+10)*(x^4+5*x^2+11)^6)\n",
    "gcd_poly(f, g).factor()"
   ]
  },
  {
   "cell_type": "markdown",
   "metadata": {},
   "source": [
    "4.) Проверим на тестовых примерах с коэффцинетами в полях $\\mathbb{R}, \\mathbb{C}$ и GF(5)."
   ]
  },
  {
   "cell_type": "code",
   "execution_count": 31,
   "metadata": {},
   "outputs": [
    {
     "data": {
      "text/plain": [
       "x - 1"
      ]
     },
     "execution_count": 31,
     "metadata": {},
     "output_type": "execute_result"
    }
   ],
   "source": [
    "f=QQbar[x](x^3-1)\n",
    "g=QQbar[x](x^3 + x^2 - x - 1)\n",
    "gcd_poly(f,g)"
   ]
  },
  {
   "cell_type": "code",
   "execution_count": 33,
   "metadata": {},
   "outputs": [
    {
     "data": {
      "text/plain": [
       "1"
      ]
     },
     "execution_count": 33,
     "metadata": {},
     "output_type": "execute_result"
    }
   ],
   "source": [
    "f=QQbar[x](x^3-i)\n",
    "g=QQbar[x](x^3 + x^2 + 2)\n",
    "gcd_poly(f,g)"
   ]
  },
  {
   "cell_type": "code",
   "execution_count": 34,
   "metadata": {},
   "outputs": [
    {
     "data": {
      "text/plain": [
       "(-7*I - 12) * (x + I)"
      ]
     },
     "execution_count": 34,
     "metadata": {},
     "output_type": "execute_result"
    }
   ],
   "source": [
    "f=QQbar[x](x^3-i)\n",
    "g=QQbar[x]((x+i)*(x^2+3+i))\n",
    "gcd_poly(f,g).factor()"
   ]
  },
  {
   "cell_type": "code",
   "execution_count": 35,
   "metadata": {},
   "outputs": [
    {
     "data": {
      "text/plain": [
       "(x - 0.866025403784439? - 0.500000000000000?*I) * (x + I) * (x + 0.866025403784439? - 0.500000000000000?*I)"
      ]
     },
     "execution_count": 35,
     "metadata": {},
     "output_type": "execute_result"
    }
   ],
   "source": [
    "f.factor()"
   ]
  },
  {
   "cell_type": "code",
   "execution_count": 36,
   "metadata": {},
   "outputs": [
    {
     "data": {
      "text/plain": [
       "(-6*I + 1) * (x + I)"
      ]
     },
     "execution_count": 36,
     "metadata": {},
     "output_type": "execute_result"
    }
   ],
   "source": [
    "f = QQbar[x](x^2 + 1)\n",
    "g = QQbar[x]((x^4+3*2*x^3+x^2+1)*(x+i))\n",
    "gcd_poly(f,g).factor()"
   ]
  },
  {
   "cell_type": "code",
   "execution_count": 39,
   "metadata": {},
   "outputs": [
    {
     "data": {
      "text/plain": [
       "x + 4"
      ]
     },
     "execution_count": 39,
     "metadata": {},
     "output_type": "execute_result"
    }
   ],
   "source": [
    "f=GF(5)[x](x^3-1)\n",
    "g=GF(5)[x](x^3 + x^2 - x - 1)\n",
    "gcd_poly(f,g)"
   ]
  },
  {
   "cell_type": "code",
   "execution_count": 40,
   "metadata": {},
   "outputs": [
    {
     "data": {
      "text/plain": [
       "(x + 4) * (x^2 + x + 1)"
      ]
     },
     "execution_count": 40,
     "metadata": {},
     "output_type": "execute_result"
    }
   ],
   "source": [
    "f.factor()"
   ]
  },
  {
   "cell_type": "code",
   "execution_count": 41,
   "metadata": {},
   "outputs": [
    {
     "data": {
      "text/plain": [
       "(x + 4) * (x + 1)^2"
      ]
     },
     "execution_count": 41,
     "metadata": {},
     "output_type": "execute_result"
    }
   ],
   "source": [
    "g.factor()"
   ]
  },
  {
   "cell_type": "code",
   "execution_count": 51,
   "metadata": {},
   "outputs": [
    {
     "data": {
      "text/plain": [
       "3*x + 1"
      ]
     },
     "execution_count": 51,
     "metadata": {},
     "output_type": "execute_result"
    }
   ],
   "source": [
    "f = GF(5)[x](x^3+8)\n",
    "g = GF(5)[x]((x+2)*(x^2+2))\n",
    "gcd_poly(f, g)"
   ]
  },
  {
   "cell_type": "markdown",
   "metadata": {},
   "source": [
    "4.) Проверим на тестовых примерах с большими степенями"
   ]
  },
  {
   "cell_type": "code",
   "execution_count": 52,
   "metadata": {},
   "outputs": [
    {
     "name": "stdout",
     "output_type": "stream",
     "text": [
      "CPU times: user 547 ms, sys: 0 ns, total: 547 ms\n",
      "Wall time: 549 ms\n"
     ]
    },
    {
     "data": {
      "text/plain": [
       "1"
      ]
     },
     "execution_count": 52,
     "metadata": {},
     "output_type": "execute_result"
    }
   ],
   "source": [
    "var(\"x\")\n",
    "f=sum([(n+1)*x^n for n in range(10^3)])\n",
    "g=sum([x^n for n in range(20)])\n",
    "%time gcd_poly(QQ[x](f),QQ[x](g))"
   ]
  },
  {
   "cell_type": "markdown",
   "metadata": {},
   "source": [
    "5.) Составьте уравнение, которому удовлетворяют кратные корни уравнения $f(x)=0$, где $f \\in \\mathbb{Q}[x]$.\n",
    "Напоминание. Если многочлен $f \\in \\mathbb{Q}[x]$ имеет кратые неприводимые множители, то эти множители входят и в $f'$. Комплексные корни неприводимых множителей \"--- простые. "
   ]
  },
  {
   "cell_type": "code",
   "execution_count": 53,
   "metadata": {},
   "outputs": [
    {
     "data": {
      "text/plain": [
       "-10752/121*x^7 - 53760/121*x^6 - 96768/121*x^5 - 53760/121*x^4 + 53760/121*x^3 + 96768/121*x^2 + 53760/121*x + 10752/121"
      ]
     },
     "execution_count": 53,
     "metadata": {},
     "output_type": "execute_result"
    }
   ],
   "source": [
    "f=QQ[x](x^11 + 4*x^10 + 4*x^9 - 3*x^8 - 6*x^7 - 6*x^4 - 3*x^3 + 4*x^2 + 4*x + 1)\n",
    "g=gcd_poly(f,diff(f,x))\n",
    "g"
   ]
  },
  {
   "cell_type": "markdown",
   "metadata": {},
   "source": [
    "Проверка средставим Sage:"
   ]
  },
  {
   "cell_type": "code",
   "execution_count": 54,
   "metadata": {},
   "outputs": [
    {
     "data": {
      "text/plain": [
       "(x - 1)^2 * (x + 1)^7 * (x^2 - x + 1)"
      ]
     },
     "execution_count": 54,
     "metadata": {},
     "output_type": "execute_result"
    }
   ],
   "source": [
    "f.factor()"
   ]
  },
  {
   "cell_type": "code",
   "execution_count": 55,
   "metadata": {},
   "outputs": [
    {
     "data": {
      "text/plain": [
       "(-10752/121) * (x - 1) * (x + 1)^6"
      ]
     },
     "execution_count": 55,
     "metadata": {},
     "output_type": "execute_result"
    }
   ],
   "source": [
    "g.factor()"
   ]
  },
  {
   "cell_type": "code",
   "execution_count": 58,
   "metadata": {},
   "outputs": [
    {
     "data": {
      "text/plain": [
       "-1044335351097662806788488619364909045794967886155156526552808188928/18081023532696066380995357391261567071423446329344045223964459769*x^6 - 33418731235125209817231635819677089465438972356965008849689862045696/18081023532696066380995357391261567071423446329344045223964459769*x^5 - 267349849881001678537853086557416715723511778855720070797518896365568/18081023532696066380995357391261567071423446329344045223964459769*x^4 - 3133006053292988420365465858094727137384903658465469579658424566784/18081023532696066380995357391261567071423446329344045223964459769*x^2 - 100256193705375629451694907459031268396316917070895026549069586137088/18081023532696066380995357391261567071423446329344045223964459769*x - 802049549643005035613559259672250147170535336567160212392556689096704/18081023532696066380995357391261567071423446329344045223964459769"
      ]
     },
     "execution_count": 58,
     "metadata": {},
     "output_type": "execute_result"
    }
   ],
   "source": [
    "f = QQ[x]((x^4 + 3)^2*(x+16)^3*(x^3-1))\n",
    "g = gcd_poly(f, diff(f, x))\n",
    "g"
   ]
  },
  {
   "cell_type": "code",
   "execution_count": 59,
   "metadata": {},
   "outputs": [
    {
     "data": {
      "text/plain": [
       "(x - 1) * (x + 16)^3 * (x^2 + x + 1) * (x^4 + 3)^2"
      ]
     },
     "execution_count": 59,
     "metadata": {},
     "output_type": "execute_result"
    }
   ],
   "source": [
    "f.factor()"
   ]
  },
  {
   "cell_type": "code",
   "execution_count": 60,
   "metadata": {},
   "outputs": [
    {
     "data": {
      "text/plain": [
       "(-1044335351097662806788488619364909045794967886155156526552808188928/18081023532696066380995357391261567071423446329344045223964459769) * (x + 16)^2 * (x^4 + 3)"
      ]
     },
     "execution_count": 60,
     "metadata": {},
     "output_type": "execute_result"
    }
   ],
   "source": [
    "g.factor()"
   ]
  },
  {
   "cell_type": "markdown",
   "metadata": {},
   "source": [
    "6.) Составьте уравнение, все комплексные корни которого простые, и совпадают с корнями заданного уравнения."
   ]
  },
  {
   "cell_type": "code",
   "execution_count": 61,
   "metadata": {},
   "outputs": [
    {
     "data": {
      "text/plain": [
       "x^4 - x^3 + x - 1"
      ]
     },
     "execution_count": 61,
     "metadata": {},
     "output_type": "execute_result"
    }
   ],
   "source": [
    "f=QQ[x](x^11 + 4*x^10 + 4*x^9 - 3*x^8 - 6*x^7 - 6*x^4 - 3*x^3 + 4*x^2 + 4*x + 1)\n",
    "g=gcd_poly(f,diff(f,x))\n",
    "(u,r)=quo_rem_poly(f,g)\n",
    "u/(u).lc()"
   ]
  },
  {
   "cell_type": "markdown",
   "metadata": {},
   "source": [
    "Проверка средствами Sage:"
   ]
  },
  {
   "cell_type": "code",
   "execution_count": 62,
   "metadata": {},
   "outputs": [
    {
     "data": {
      "text/plain": [
       "(x - 1) * (x + 1) * (x^2 - x + 1)"
      ]
     },
     "execution_count": 62,
     "metadata": {},
     "output_type": "execute_result"
    }
   ],
   "source": [
    "(u/(u).lc()).factor()"
   ]
  },
  {
   "cell_type": "code",
   "execution_count": 63,
   "metadata": {},
   "outputs": [
    {
     "data": {
      "text/plain": [
       "(x - 1)^2 * (x + 1)^7 * (x^2 - x + 1)"
      ]
     },
     "execution_count": 63,
     "metadata": {},
     "output_type": "execute_result"
    }
   ],
   "source": [
    "f.factor()"
   ]
  },
  {
   "cell_type": "code",
   "execution_count": 67,
   "metadata": {},
   "outputs": [
    {
     "data": {
      "text/plain": [
       "x^2 + 3/2*x + 1/2"
      ]
     },
     "execution_count": 67,
     "metadata": {},
     "output_type": "execute_result"
    }
   ],
   "source": [
    "f = QQ[x]((x+1)^2*(2*x+1)^4)\n",
    "g = gcd_poly(f, diff(f, x))\n",
    "(u, r) = quo_rem_poly(f, g)\n",
    "u/(u).lc()"
   ]
  },
  {
   "cell_type": "code",
   "execution_count": 65,
   "metadata": {},
   "outputs": [
    {
     "data": {
      "text/plain": [
       "(x + 1/2) * (x + 1)"
      ]
     },
     "execution_count": 65,
     "metadata": {},
     "output_type": "execute_result"
    }
   ],
   "source": [
    "(u/(u).lc()).factor()"
   ]
  },
  {
   "cell_type": "code",
   "execution_count": 66,
   "metadata": {},
   "outputs": [
    {
     "data": {
      "text/plain": [
       "(16) * (x + 1)^2 * (x + 1/2)^4"
      ]
     },
     "execution_count": 66,
     "metadata": {},
     "output_type": "execute_result"
    }
   ],
   "source": [
    "f.factor()"
   ]
  },
  {
   "cell_type": "code",
   "execution_count": null,
   "metadata": {},
   "outputs": [],
   "source": []
  }
 ],
 "metadata": {
  "kernelspec": {
   "display_name": "SageMath 9.3",
   "language": "sage",
   "name": "sagemath"
  },
  "language_info": {
   "codemirror_mode": {
    "name": "ipython",
    "version": 3
   },
   "file_extension": ".py",
   "mimetype": "text/x-python",
   "name": "python",
   "nbconvert_exporter": "python",
   "pygments_lexer": "ipython3",
   "version": "3.7.10"
  }
 },
 "nbformat": 4,
 "nbformat_minor": 5
}
