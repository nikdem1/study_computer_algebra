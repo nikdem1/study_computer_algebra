{
 "cells": [
  {
   "cell_type": "markdown",
   "metadata": {},
   "source": [
    "# Лабораторная работа № 1. Алгоритм Евклида\n",
    "\n",
    "Лит-ра: Алгебра, лек. 6. \n",
    "\n",
    "Реализация алгоритма Евклдиа для кольца $\\mathbb{Q}[x]$. "
   ]
  },
  {
   "cell_type": "code",
   "execution_count": 2,
   "metadata": {},
   "outputs": [],
   "source": [
    "def quo_rem_poly(f,q):\n",
    "    K=f.parent()\n",
    "    n=0\n",
    "    while f.degree()>=q.degree():\n",
    "        ni=K(f.lt()/q.lt())\n",
    "        n=n+ni\n",
    "        f=f-ni*q\n",
    "    return (n,f)"
   ]
  },
  {
   "cell_type": "markdown",
   "metadata": {},
   "source": [
    "**1. Какого типа данные подаются на вход? Какого типа данные возвращаются? Описать каждую строку алгоритма.**\n",
    "\n",
    "На вход подаются данные строкового типа - многочлены. Возвращаются данные такого же типа, т.к это частное и остаток от деления.\n",
    "\n",
    "В первой строке задается функция и входные данные - два многочлена, делимое и делитель.\n",
    "Во второй строке определяется поле, в котором мы будем работать.\n",
    "Далее мы задаем нулевое значение выражения и оно напрямую зависит от коэффициентов в делимом.\n",
    "В 4-й строке задается следующее условие: наш многочлен f будет меняться и алгоритм будет выполняться, пока степень f больше степени q.\n",
    "Затем отдельно прописывается результат от деления старшего монома делимого на старший моном делитель, а также кольцо, которому должен будет принадлежать результат.\n",
    "В 6-й строке формируется частное, оно будет выглядеть как многочлен, состоящий из результатов деления старших мономов делимого и делителя.\n",
    "И далее записывается остаток, который будет участвовать в следующей операции.\n",
    "\n",
    "2. Проверить работу для $\\mathbb{Q}[x]$"
   ]
  },
  {
   "cell_type": "code",
   "execution_count": 3,
   "metadata": {},
   "outputs": [
    {
     "data": {
      "text/plain": [
       "(x^8 + x^7 + x^6 + x^5 + x^4 + x^3 + x^2 + x + 6, 8)"
      ]
     },
     "execution_count": 3,
     "metadata": {},
     "output_type": "execute_result"
    }
   ],
   "source": [
    "f=x^9+x+2+4*x\n",
    "q=x-1\n",
    "quo_rem_poly(QQ[x](f),QQ[x](q))"
   ]
  },
  {
   "cell_type": "markdown",
   "metadata": {},
   "source": [
    "Проверка: $f=uq+r$."
   ]
  },
  {
   "cell_type": "code",
   "execution_count": 4,
   "metadata": {},
   "outputs": [
    {
     "data": {
      "text/plain": [
       "0"
      ]
     },
     "execution_count": 4,
     "metadata": {},
     "output_type": "execute_result"
    }
   ],
   "source": [
    "(u,r)=quo_rem_poly(QQ[x](f),QQ[x](q))\n",
    "QQ[x](f-u*q-r)"
   ]
  },
  {
   "cell_type": "markdown",
   "metadata": {},
   "source": [
    "Встроенная в Sage реализация:"
   ]
  },
  {
   "cell_type": "code",
   "execution_count": 6,
   "metadata": {},
   "outputs": [
    {
     "data": {
      "text/plain": [
       "(x^2 + x + 2, 4)"
      ]
     },
     "execution_count": 6,
     "metadata": {},
     "output_type": "execute_result"
    }
   ],
   "source": [
    "QQ[x](f).quo_rem(QQ[x](q))"
   ]
  },
  {
   "cell_type": "markdown",
   "metadata": {},
   "source": [
    "3. Проверить работу для $\\mathbb{Q}[t]$"
   ]
  },
  {
   "cell_type": "code",
   "execution_count": 5,
   "metadata": {},
   "outputs": [
    {
     "data": {
      "text/plain": [
       "(t^2 + t + 2, 4)"
      ]
     },
     "execution_count": 5,
     "metadata": {},
     "output_type": "execute_result"
    }
   ],
   "source": [
    "var(\"t\")\n",
    "f=t^3+t+2\n",
    "q=t-1\n",
    "quo_rem_poly(QQ[t](f),QQ[t](q))"
   ]
  },
  {
   "cell_type": "markdown",
   "metadata": {},
   "source": [
    "**Вопрос: зачем нужно писать var(\"t\")?**\n",
    "\n",
    "Необходимо писать \"var(\"t\")\" для того, чтобы Sage определил ранее не заданную переменную t.\n",
    "\n",
    "4. Проверить работу над $GF(p)[x]$. "
   ]
  },
  {
   "cell_type": "code",
   "execution_count": 16,
   "metadata": {},
   "outputs": [
    {
     "data": {
      "text/plain": [
       "(2*x^2 + 2*x + 3, 0)"
      ]
     },
     "execution_count": 16,
     "metadata": {},
     "output_type": "execute_result"
    }
   ],
   "source": [
    "f=7*x^3+x+2\n",
    "q=x-1\n",
    "k=GF(5)\n",
    "quo_rem_poly(k[x](f),k[x](q))"
   ]
  },
  {
   "cell_type": "markdown",
   "metadata": {},
   "source": [
    "Проверка: $f=uq+r$."
   ]
  },
  {
   "cell_type": "code",
   "execution_count": 17,
   "metadata": {},
   "outputs": [
    {
     "data": {
      "text/plain": [
       "0"
      ]
     },
     "execution_count": 17,
     "metadata": {},
     "output_type": "execute_result"
    }
   ],
   "source": [
    "(u,r)=quo_rem_poly(k[x](f),k[x](q))\n",
    "k[x](f)-u*k[x](q)-r"
   ]
  },
  {
   "cell_type": "markdown",
   "metadata": {},
   "source": [
    "**Вопрос: почему нельзя писать u*q?**\n",
    "\n",
    "Нельзя писать u*q, поскольку в таком случае операция будет проведена не в поле Галуа и будет определяться по заданным многочленам"
   ]
  },
  {
   "cell_type": "markdown",
   "metadata": {},
   "source": [
    "5. Проверить работу над $k[y]$, где $k$ -- поле частных кольца $\\mathbb{Q}[x]$."
   ]
  },
  {
   "cell_type": "code",
   "execution_count": 18,
   "metadata": {},
   "outputs": [
    {
     "data": {
      "text/plain": [
       "(x*y + (2*x - 1)/x, (3*x - 1)/x)"
      ]
     },
     "execution_count": 18,
     "metadata": {},
     "output_type": "execute_result"
    }
   ],
   "source": [
    "var(\"x,y\")\n",
    "f=x^2*y^2+(x-1)*y+1\n",
    "q=x*y-1\n",
    "k=FractionField(QQ[x])\n",
    "quo_rem_poly(k[y](f),k[y](q))"
   ]
  },
  {
   "cell_type": "code",
   "execution_count": 19,
   "metadata": {},
   "outputs": [
    {
     "data": {
      "text/plain": [
       "0"
      ]
     },
     "execution_count": 19,
     "metadata": {},
     "output_type": "execute_result"
    }
   ],
   "source": [
    "(u,r)=quo_rem_poly(k[y](f),k[y](q))\n",
    "k[y](f)-u*k[y](q)-r"
   ]
  },
  {
   "cell_type": "markdown",
   "metadata": {},
   "source": [
    "6. Напишите программу для тестирования алгоритма в $\\mathbb{Q}[x]$."
   ]
  },
  {
   "cell_type": "code",
   "execution_count": 23,
   "metadata": {},
   "outputs": [],
   "source": [
    "def test_quo_rem():\n",
    "    K=QQ[x]\n",
    "    u=QQ[x].random_element()\n",
    "    r=QQ[x].random_element()\n",
    "    q=QQ[x].random_element()\n",
    "    f=u*q+r\n",
    "    print((f,q))\n",
    "    (uu,rr)=quo_rem_poly(K(f),K(q))\n",
    "    if u==uu and rr==r:\n",
    "        ans=True\n",
    "    else:\n",
    "        ans=False\n",
    "    return ans"
   ]
  },
  {
   "cell_type": "code",
   "execution_count": 25,
   "metadata": {},
   "outputs": [
    {
     "name": "stdout",
     "output_type": "stream",
     "text": [
      "(-1/2*x^2 + 77/26*x + 2/13, x - 4)\n"
     ]
    },
    {
     "data": {
      "text/plain": [
       "False"
      ]
     },
     "execution_count": 25,
     "metadata": {},
     "output_type": "execute_result"
    }
   ],
   "source": [
    "test_quo_rem()"
   ]
  },
  {
   "cell_type": "markdown",
   "metadata": {},
   "source": [
    "**Вопрос: должен ли алгоритм работать при $\\partial q=0$ и при $\\partial q=-1$? Как сделать защиту от \"дурака\"?**\n",
    "\n",
    "Нет, т.к при степени делителя 0 и -1 алгоритм не будет работать. Для того, чтобы исключить подобную ошибку, нужно вставить строку с проверкой того, чтобы степени выбранного случайным образом многочлена q не была равна 0 или -1."
   ]
  },
  {
   "cell_type": "markdown",
   "metadata": {},
   "source": [
    "7. Оцените время, потребное на работу реализации алгоритма, при \"больших\" степенях. "
   ]
  },
  {
   "cell_type": "code",
   "execution_count": 21,
   "metadata": {},
   "outputs": [
    {
     "name": "stdout",
     "output_type": "stream",
     "text": [
      "360 ms ± 25.7 ms per loop (mean ± std. dev. of 7 runs, 1 loop each)\n"
     ]
    }
   ],
   "source": [
    "var(\"x\")\n",
    "f=sum([(n+1)*x^n for n in range(10^3)])\n",
    "q=sum([x^n for n in range(20)])\n",
    "%timeit quo_rem_poly(QQ[x](f),QQ[x](q))"
   ]
  },
  {
   "cell_type": "markdown",
   "metadata": {},
   "source": [
    "Замечание. Elapsed real time, real time, wall-clock time, wall time, or walltime is the actual time taken from the start of a computer program to the end. In other words, it is the difference between the time at which a task finishes and the time at which the task started."
   ]
  },
  {
   "cell_type": "markdown",
   "metadata": {},
   "source": [
    "Время для расчета подобных степеней я считаю весьма малым, но конечно же, с ростом степени время работы будет увеличиваться"
   ]
  },
  {
   "cell_type": "code",
   "execution_count": null,
   "metadata": {},
   "outputs": [],
   "source": []
  }
 ],
 "metadata": {
  "kernelspec": {
   "display_name": "SageMath 9.3",
   "language": "sage",
   "name": "sagemath"
  },
  "language_info": {
   "codemirror_mode": {
    "name": "ipython",
    "version": 3
   },
   "file_extension": ".py",
   "mimetype": "text/x-python",
   "name": "python",
   "nbconvert_exporter": "python",
   "pygments_lexer": "ipython3",
   "version": "3.7.10"
  }
 },
 "nbformat": 4,
 "nbformat_minor": 5
}
