{
 "cells": [
  {
   "cell_type": "markdown",
   "metadata": {},
   "source": [
    "# Остаток от деления в кольцах многочленов от многих переменных\n",
    "\n",
    "Лит.: Кокс Д.,  Литтл Дж.,  О'Ши Д. Идеалы,  многообразия  и  алгоритмы.  Введение  в  вычислительные  аспекты  алгебраической  геометрии  и  коммутативной алгебры. Гл. 2, п. 3.\n",
    "\n",
    "## Вычисление остатка\n",
    "\n",
    "Пусть $J=(g_1, \\dots g_s)$ --- список многочленов, тогда любой многочлен можно представить в виде\n",
    "$$\n",
    "f = \\sum u_i g_i + r,\n",
    "$$\n",
    "где мономы $r$ не делится ни на однин из мономов $lm(g_1), \\dots lm(g_s)$. При этом $r$ называют отстатком от деления $f$ на $J$. \n",
    "\n",
    "1) Что можно подать на вход след. функции? "
   ]
  },
  {
   "cell_type": "markdown",
   "metadata": {},
   "source": [
    "На вход функции подается f - символьное выражение, J - список символьных выражений, K - кольцо многочленов, которому принадлежат эти выражения"
   ]
  },
  {
   "cell_type": "code",
   "execution_count": 9,
   "metadata": {},
   "outputs": [],
   "source": [
    "def rem_step(f,J,K):\n",
    "    ans=0\n",
    "    while ans==0:\n",
    "        ans=1\n",
    "        if K(f) != 0:\n",
    "            for g in J:\n",
    "                a = K(f).lt()/K(g).lt()\n",
    "                if a in K:\n",
    "                    ans=0\n",
    "                    f=K(f)-a*K(g)\n",
    "                    break\n",
    "    return SR(f)"
   ]
  },
  {
   "cell_type": "code",
   "execution_count": 10,
   "metadata": {},
   "outputs": [
    {
     "data": {
      "text/plain": [
       "(x0, x1, x2)"
      ]
     },
     "execution_count": 10,
     "metadata": {},
     "output_type": "execute_result"
    }
   ],
   "source": [
    "var(\"x0,x1,x2\")"
   ]
  },
  {
   "cell_type": "code",
   "execution_count": 13,
   "metadata": {},
   "outputs": [
    {
     "data": {
      "text/plain": [
       "-5*x0"
      ]
     },
     "execution_count": 13,
     "metadata": {},
     "output_type": "execute_result"
    }
   ],
   "source": [
    "K=QQ[x0,x1,x2]\n",
    "rem_step(x0*x2, [x1+x2-1,x2+5,x0^2+x1+x2+3], K)"
   ]
  },
  {
   "cell_type": "code",
   "execution_count": 12,
   "metadata": {},
   "outputs": [
    {
     "data": {
      "text/plain": [
       "-x0*x1 + x0"
      ]
     },
     "execution_count": 12,
     "metadata": {},
     "output_type": "execute_result"
    }
   ],
   "source": [
    "K=PolynomialRing(QQ,[x2,x1,x0],order='lex')\n",
    "rem_step(x0*x2, [x1+x2-1,x2+5,x0^2+x1+x2+3], K)"
   ]
  },
  {
   "cell_type": "markdown",
   "metadata": {},
   "source": [
    "2) Что происходит в цикле for? При выполнении условия a in K старшый член f становится меньше или больше? \n",
    "\n",
    "3) Чему равно $f$ в тот момент, когда заканчивается цикл while? Что возвращает эта функция?"
   ]
  },
  {
   "cell_type": "markdown",
   "metadata": {},
   "source": [
    "В цикле for мы замняем многочлен f на новый многчлен f, который отличается от старого на моном, константу и один из многочленов g. При этом старший член становится меньше, либо мы не можем этого сделать и тогда старший член в f не делится ни на один из старших членов в g"
   ]
  },
  {
   "cell_type": "markdown",
   "metadata": {},
   "source": [
    "Когда while закнчивается f такова, что ее старший моном не делится ни на один из мономов g1 и до gs. Наша функция вовращает такой многочлен f, старший моном которого не делится ни на один из старших мономов g"
   ]
  },
  {
   "cell_type": "markdown",
   "metadata": {},
   "source": [
    "Замечание. Эта функция возвращает такой многочлен $h$, что\n",
    "$$\n",
    "f = \\sum u_i g_i + h\n",
    "$$\n",
    "и $lm(h)$ не делится ни на однин из мономов $lm(g_1), \\dots lm(g_s)$. Это еще не остаток!"
   ]
  },
  {
   "cell_type": "markdown",
   "metadata": {},
   "source": [
    "4) Зависит ли результат от порядка переменных? От выбора мономиального порядка?"
   ]
  },
  {
   "cell_type": "markdown",
   "metadata": {},
   "source": [
    "Результат зависит от порядка переменных и мономиального порядка"
   ]
  },
  {
   "cell_type": "code",
   "execution_count": 17,
   "metadata": {},
   "outputs": [
    {
     "data": {
      "text/plain": [
       "-10*x2 - 124"
      ]
     },
     "execution_count": 17,
     "metadata": {},
     "output_type": "execute_result"
    }
   ],
   "source": [
    "K=PolynomialRing(QQ,[x0,x1,x2],order='lex')\n",
    "rem_step(x0^2, [x1^2+x2^3-1,x2^2+5,x0+x1^2+x2^2+3], K)"
   ]
  },
  {
   "cell_type": "code",
   "execution_count": 18,
   "metadata": {},
   "outputs": [
    {
     "data": {
      "text/plain": [
       "x0^2"
      ]
     },
     "execution_count": 18,
     "metadata": {},
     "output_type": "execute_result"
    }
   ],
   "source": [
    "K=PolynomialRing(QQ,[x0,x1,x2],order='deglex')\n",
    "rem_step(x0^2, [x1^2+x2^3-1,x2^2+5,x0+x1^2+x2^2+3], K)"
   ]
  },
  {
   "cell_type": "code",
   "execution_count": 19,
   "metadata": {},
   "outputs": [
    {
     "data": {
      "text/plain": [
       "x0^2"
      ]
     },
     "execution_count": 19,
     "metadata": {},
     "output_type": "execute_result"
    }
   ],
   "source": [
    "K=PolynomialRing(QQ,[x2,x1,x0],order='lex')\n",
    "rem_step(x0^2, [x1^2+x2^3-1,x2^2+5,x0+x1^2+x2^2+3], K)"
   ]
  },
  {
   "cell_type": "markdown",
   "metadata": {},
   "source": [
    "5) Проверить, что след. функция возвращает остаток. "
   ]
  },
  {
   "cell_type": "code",
   "execution_count": 31,
   "metadata": {},
   "outputs": [],
   "source": [
    "def rem(f,J,K):\n",
    "    p=rem_step(f,J,K)\n",
    "    r=0\n",
    "    while K(p)!=0:\n",
    "        [f,r]=[K(p)-K(p).lt(),K(r)+K(p).lt()]\n",
    "        p=rem_step(f,J,K)\n",
    "    return SR(r)"
   ]
  },
  {
   "cell_type": "code",
   "execution_count": 30,
   "metadata": {},
   "outputs": [
    {
     "data": {
      "text/plain": [
       "-x1^5 - 10*x1^4 - 61*x1^3 - 236*x1^2 - 623*x1 - 169*x2 - 902"
      ]
     },
     "execution_count": 30,
     "metadata": {},
     "output_type": "execute_result"
    }
   ],
   "source": [
    "rem(x0^5, [x1*x2-6,x0*x2-3,x0+x1+x2+2], QQ[x0,x1,x2])"
   ]
  },
  {
   "cell_type": "markdown",
   "metadata": {},
   "source": [
    "Проверка"
   ]
  },
  {
   "cell_type": "code",
   "execution_count": 29,
   "metadata": {},
   "outputs": [
    {
     "name": "stdout",
     "output_type": "stream",
     "text": [
      "-x1^5 - 10*x1^4 - 61*x1^3 - 236*x1^2 - 623*x1 - 169*x2 - 902\n"
     ]
    },
    {
     "data": {
      "text/plain": [
       "True"
      ]
     },
     "execution_count": 29,
     "metadata": {},
     "output_type": "execute_result"
    }
   ],
   "source": [
    "f=x0^5\n",
    "J=[x1*x2-6,x0*x2-3,x0+x1+x2+2]\n",
    "r=rem(f, J, QQ[x0,x1,x2])\n",
    "print(r)\n",
    "f-r in QQ[x0,x1,x2]*J"
   ]
  },
  {
   "cell_type": "markdown",
   "metadata": {},
   "source": [
    "Мономы остатка"
   ]
  },
  {
   "cell_type": "code",
   "execution_count": 32,
   "metadata": {},
   "outputs": [
    {
     "data": {
      "text/plain": [
       "[x1^5, x1^4, x1^3, x1^2, x1, x2, 1]"
      ]
     },
     "execution_count": 32,
     "metadata": {},
     "output_type": "execute_result"
    }
   ],
   "source": [
    "QQ[x0,x1,x2](r).monomials()"
   ]
  },
  {
   "cell_type": "markdown",
   "metadata": {},
   "source": [
    "не делятся на старшие мономы в $J$. Поэтому $r$ --- остаток от деления $f$ на $J$. "
   ]
  },
  {
   "cell_type": "code",
   "execution_count": 33,
   "metadata": {},
   "outputs": [
    {
     "data": {
      "text/plain": [
       "[x1*x2, x0*x2, x0]"
      ]
     },
     "execution_count": 33,
     "metadata": {},
     "output_type": "execute_result"
    }
   ],
   "source": [
    "[QQ[x0,x1,x2](g).lm() for g in J]"
   ]
  },
  {
   "cell_type": "markdown",
   "metadata": {},
   "source": [
    "6) Что происходит в 5 и 6 строчках? \n",
    "\n",
    "7) Что получится, если применить эту фyнкцию к многочлену из $\\mathbb{Q}[x]$?"
   ]
  },
  {
   "cell_type": "markdown",
   "metadata": {},
   "source": [
    "В этих строчках переопределяются p, f, r. Новые p, f, r определяются по этим формулам:"
   ]
  },
  {
   "cell_type": "markdown",
   "metadata": {},
   "source": [
    "$$ \n",
    "f'=p-lt(p), \\quad r'=r+lt(p), \\quad p'=f'+\\sum u_i' g_i\n",
    "$$"
   ]
  },
  {
   "cell_type": "markdown",
   "metadata": {},
   "source": [
    "При этом $f'+r'=p+r$, но старший член из $p$ переезжает в $r$. Дальше $p$ заменяется на многочлен, который отличается от $f'$ на лин. комб. $g_i$ и старший моном которого не делится на $lm(g_1), \\dots, lm(g_s)$"
   ]
  },
  {
   "cell_type": "markdown",
   "metadata": {},
   "source": [
    "Если применить функцию к Q[x] то остаток будет вычисляться правильно."
   ]
  },
  {
   "cell_type": "code",
   "execution_count": 34,
   "metadata": {},
   "outputs": [
    {
     "data": {
      "text/plain": [
       "4*x - 1"
      ]
     },
     "execution_count": 34,
     "metadata": {},
     "output_type": "execute_result"
    }
   ],
   "source": [
    "var(\"x\")\n",
    "f=x^3+x+1\n",
    "J=[x^2+x-2]\n",
    "rem(f,J,QQ[x])"
   ]
  },
  {
   "cell_type": "code",
   "execution_count": 35,
   "metadata": {},
   "outputs": [
    {
     "data": {
      "text/plain": [
       "(x - 1, 4*x - 1)"
      ]
     },
     "execution_count": 35,
     "metadata": {},
     "output_type": "execute_result"
    }
   ],
   "source": [
    "QQ[x](f).quo_rem(QQ[x](J[0]))"
   ]
  },
  {
   "cell_type": "code",
   "execution_count": 36,
   "metadata": {},
   "outputs": [
    {
     "data": {
      "text/plain": [
       "11"
      ]
     },
     "execution_count": 36,
     "metadata": {},
     "output_type": "execute_result"
    }
   ],
   "source": [
    "QQ[x](f)(2)"
   ]
  },
  {
   "cell_type": "markdown",
   "metadata": {},
   "source": [
    "## Идеалы\n",
    "\n",
    "Условие \n",
    "$$\n",
    "f \\in J=(g_1, \\dots, g_s)\n",
    "$$\n",
    "означает, что существуют такие $u_1, \\dots, u_s$, что \n",
    "$$\n",
    "f = \\sum \\limits_{i=1}^s u_i g_i. \n",
    "$$\n",
    "\n",
    "Задача. Даны многочлен $f$ и идеал $J$, выяснить, верно ли $f \\in J$.\n",
    "\n",
    "8) Является ли условие обращения в нуль остатка от деления $f$ на $J$ достаточным для $f \\in J$?"
   ]
  },
  {
   "cell_type": "markdown",
   "metadata": {},
   "source": [
    "Это условие является достаточным"
   ]
  },
  {
   "cell_type": "code",
   "execution_count": 37,
   "metadata": {},
   "outputs": [
    {
     "data": {
      "text/plain": [
       "0"
      ]
     },
     "execution_count": 37,
     "metadata": {},
     "output_type": "execute_result"
    }
   ],
   "source": [
    "var(\"x,y,z\")\n",
    "J=[y-x^2, z-x^3]\n",
    "K=PolynomialRing(QQ,[z,y,x],order='lex')\n",
    "rem(y^3-z^2, J, K)"
   ]
  },
  {
   "cell_type": "markdown",
   "metadata": {},
   "source": [
    "9) Является ли условие обращения в нуль остатка от деления $f$ на $J$ необходимым для $f \\in J$?"
   ]
  },
  {
   "cell_type": "code",
   "execution_count": 19,
   "metadata": {},
   "outputs": [
    {
     "data": {
      "text/plain": [
       "y^3 - z^2"
      ]
     },
     "execution_count": 19,
     "metadata": {},
     "output_type": "execute_result"
    }
   ],
   "source": [
    "var(\"x,y,z\")\n",
    "J=[y-x^2, z-x^3]\n",
    "K=PolynomialRing(QQ,[x,y,z],order='lex')\n",
    "rem(y^3-z^2, J, K)"
   ]
  },
  {
   "cell_type": "markdown",
   "metadata": {},
   "source": [
    "Но не является необходимым"
   ]
  }
 ],
 "metadata": {
  "kernelspec": {
   "display_name": "SageMath 9.3",
   "language": "sage",
   "name": "sagemath"
  },
  "language_info": {
   "codemirror_mode": {
    "name": "ipython",
    "version": 3
   },
   "file_extension": ".py",
   "mimetype": "text/x-python",
   "name": "python",
   "nbconvert_exporter": "python",
   "pygments_lexer": "ipython3",
   "version": "3.7.10"
  }
 },
 "nbformat": 4,
 "nbformat_minor": 5
}
